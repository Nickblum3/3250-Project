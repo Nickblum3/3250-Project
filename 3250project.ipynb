{
 "cells": [
  {
   "cell_type": "markdown",
   "id": "48d1b4e8-dce6-430d-a60f-e2484788771e",
   "metadata": {},
   "source": [
    "# project 3250\n",
    "## project\n",
    "11/11/2024"
   ]
  },
  {
   "cell_type": "code",
   "execution_count": 2,
   "id": "13ca64c2-023d-45a3-82c1-29ef322fb36b",
   "metadata": {},
   "outputs": [],
   "source": [
    "## code goes here"
   ]
  },
  {
   "cell_type": "code",
   "execution_count": null,
   "id": "8b40d9f7-b583-413e-94fe-2db300601015",
   "metadata": {},
   "outputs": [],
   "source": [
    "print(\"hello world\")"
   ]
  }
 ],
 "metadata": {
  "kernelspec": {
   "display_name": "Python 3 (ipykernel)",
   "language": "python",
   "name": "python3"
  },
  "language_info": {
   "codemirror_mode": {
    "name": "ipython",
    "version": 3
   },
   "file_extension": ".py",
   "mimetype": "text/x-python",
   "name": "python",
   "nbconvert_exporter": "python",
   "pygments_lexer": "ipython3",
   "version": "3.11.5"
  }
 },
 "nbformat": 4,
 "nbformat_minor": 5
}
